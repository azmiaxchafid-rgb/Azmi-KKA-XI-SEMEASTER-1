{
  "nbformat": 4,
  "nbformat_minor": 0,
  "metadata": {
    "colab": {
      "provenance": [],
      "authorship_tag": "ABX9TyOjZZvhZe9gUATQ6/OOzVmk",
      "include_colab_link": true
    },
    "kernelspec": {
      "name": "python3",
      "display_name": "Python 3"
    },
    "language_info": {
      "name": "python"
    }
  },
  "cells": [
    {
      "cell_type": "markdown",
      "metadata": {
        "id": "view-in-github",
        "colab_type": "text"
      },
      "source": [
        "<a href=\"https://colab.research.google.com/github/azmiaxchafid-rgb/Azmi-KKA-XI-SEMEASTER-1/blob/main/1_FungsiprintAzmiXI3.ipynb\" target=\"_parent\"><img src=\"https://colab.research.google.com/assets/colab-badge.svg\" alt=\"Open In Colab\"/></a>"
      ]
    },
    {
      "cell_type": "markdown",
      "source": [
        "Nama:Azmi Aqila Chafid\n",
        "\n",
        "Kelas:XI3\n",
        "\n",
        "No.Absen:3"
      ],
      "metadata": {
        "id": "Ly3yLCbNUb1n"
      }
    },
    {
      "cell_type": "markdown",
      "source": [
        "#Menpilkan string (teks bebas)"
      ],
      "metadata": {
        "id": "AxkQ49ApVI1x"
      }
    },
    {
      "cell_type": "code",
      "execution_count": null,
      "metadata": {
        "id": "pgVbWmqJRF4R",
        "colab": {
          "base_uri": "https://localhost:8080/"
        },
        "outputId": "f5e87e00-8214-48f2-e166-f723f1627784"
      },
      "outputs": [
        {
          "output_type": "stream",
          "name": "stdout",
          "text": [
            "Azmi Aqila Chafid\n"
          ]
        }
      ],
      "source": [
        "print(\"Azmi Aqila Chafid\")"
      ]
    },
    {
      "cell_type": "markdown",
      "source": [
        "#Menampilkan Nilai Variabel"
      ],
      "metadata": {
        "id": "7QbzffoQVpad"
      }
    },
    {
      "cell_type": "code",
      "source": [
        "Nama=\"Azmi Aqila Chafid\"\n",
        "Umur=16\n",
        "Tinggi_badan=165\n",
        "Berat_badan=62\n",
        "\n",
        "print(Nama)\n",
        "print(Umur)\n",
        "print(Tinggi_badan)\n",
        "print(Berat_badan)"
      ],
      "metadata": {
        "colab": {
          "base_uri": "https://localhost:8080/"
        },
        "id": "0Y843Y7gVz4Y",
        "outputId": "55ac9688-3d97-4ba7-a1ac-50bda26c2540"
      },
      "execution_count": null,
      "outputs": [
        {
          "output_type": "stream",
          "name": "stdout",
          "text": [
            "Azmi Aqila Chafid\n",
            "16\n",
            "165\n",
            "62\n"
          ]
        }
      ]
    },
    {
      "cell_type": "markdown",
      "source": [
        "#Menampilkan String dan Nilai Variabel"
      ],
      "metadata": {
        "id": "T14tszGCSrSb"
      }
    },
    {
      "cell_type": "code",
      "source": [
        "print(\"Halo nama saya\",Nama,\"tinggi badan saya adalah\",Tinggi_badan,\"cm\")"
      ],
      "metadata": {
        "colab": {
          "base_uri": "https://localhost:8080/"
        },
        "id": "Rvie7-vfUdZW",
        "outputId": "f2e4565f-297a-412b-8337-c891075d12f3"
      },
      "execution_count": null,
      "outputs": [
        {
          "output_type": "stream",
          "name": "stdout",
          "text": [
            "Halo nama saya Azmi Aqila Chafid tinggi badan saya adalah 165 cm\n"
          ]
        }
      ]
    },
    {
      "cell_type": "markdown",
      "source": [
        "#Latihan Menampilkan berat badan"
      ],
      "metadata": {
        "id": "U-EMsJUqW2I7"
      }
    },
    {
      "cell_type": "code",
      "source": [
        "print(\"Berat badan saya adalah\",Berat_badan,\"kg\")"
      ],
      "metadata": {
        "colab": {
          "base_uri": "https://localhost:8080/"
        },
        "id": "Uudsm0xLXR11",
        "outputId": "4f5ec9d9-b570-40e6-867c-8158c055bca6"
      },
      "execution_count": null,
      "outputs": [
        {
          "output_type": "stream",
          "name": "stdout",
          "text": [
            "Berat badan saya adalah 62 kg\n"
          ]
        }
      ]
    },
    {
      "cell_type": "code",
      "source": [
        "print(\"usia saya adalah\",Umur,\"tahun\")"
      ],
      "metadata": {
        "colab": {
          "base_uri": "https://localhost:8080/"
        },
        "id": "jx8co6ZkV8FI",
        "outputId": "6cd201b3-7583-41b2-aa34-e4b85c69f5f5"
      },
      "execution_count": null,
      "outputs": [
        {
          "output_type": "stream",
          "name": "stdout",
          "text": [
            "usia saya adalah 16 tahun\n"
          ]
        }
      ]
    },
    {
      "cell_type": "code",
      "source": [
        "print(\"nama saya adalah \"+Nama+ \" Tinggi badan saya adalah \"+str(Tinggi_badan)+ \"cm\")"
      ],
      "metadata": {
        "colab": {
          "base_uri": "https://localhost:8080/"
        },
        "id": "kKoyO4uyae2_",
        "outputId": "76b935cb-3c64-48a9-af96-d15bd629a49a"
      },
      "execution_count": null,
      "outputs": [
        {
          "output_type": "stream",
          "name": "stdout",
          "text": [
            "nama saya adalah Azmi Aqila Chafid Tinggi badan saya adalah 165cm\n"
          ]
        }
      ]
    },
    {
      "cell_type": "code",
      "source": [
        "print(f\"Halo nama saya adalah {Nama} Tinggi badan saya adalah {Tinggi_badan} cm.\")"
      ],
      "metadata": {
        "colab": {
          "base_uri": "https://localhost:8080/"
        },
        "id": "0BQzTzcWbVCA",
        "outputId": "2db50f5a-680d-4197-fe4b-cdd3fc0e11b4"
      },
      "execution_count": null,
      "outputs": [
        {
          "output_type": "stream",
          "name": "stdout",
          "text": [
            "Halo nama saya adalah Azmi Aqila Chafid Tinggi badan saya adalah 165 cm.\n"
          ]
        }
      ]
    },
    {
      "cell_type": "markdown",
      "source": [
        "#Escape Character"
      ],
      "metadata": {
        "id": "odzwbwKfW098"
      }
    },
    {
      "cell_type": "code",
      "source": [
        "print(\"Nama: Azmi Aqila Chafid\\nkelas: XI.3\\nNo.absen:3\")"
      ],
      "metadata": {
        "colab": {
          "base_uri": "https://localhost:8080/"
        },
        "id": "Ws8OmqocWwS4",
        "outputId": "709e5139-125d-43f7-9e27-4482d9468f82"
      },
      "execution_count": null,
      "outputs": [
        {
          "output_type": "stream",
          "name": "stdout",
          "text": [
            "Nama: Azmi Aqila Chafid\n",
            "kelas: XI.3\n",
            "No.absen:3\n"
          ]
        }
      ]
    },
    {
      "cell_type": "code",
      "source": [
        "print(\"\"\"Nama\\t\\t: Azmi Aqila Chafid\n",
        "Kelas\\t\\t:XI\n",
        "No.absen\\t:3\"\"\")"
      ],
      "metadata": {
        "colab": {
          "base_uri": "https://localhost:8080/"
        },
        "id": "YwiIUcsoYcG6",
        "outputId": "b94d7fe3-043a-44c1-9703-87226ab15955"
      },
      "execution_count": null,
      "outputs": [
        {
          "output_type": "stream",
          "name": "stdout",
          "text": [
            "Nama\t\t: Azmi Aqila Chafid\n",
            "Kelas\t\t:XI\n",
            "No.absen\t:3\n"
          ]
        }
      ]
    },
    {
      "cell_type": "code",
      "source": [
        "print(\"Nama: Azmi Aqila Chafid\")\n",
        "print(\"kelas:XI3\")\n",
        "print(\"No.absen:3\")"
      ],
      "metadata": {
        "colab": {
          "base_uri": "https://localhost:8080/"
        },
        "id": "m8AuVCnbY6Ap",
        "outputId": "c5fbdefb-d7f8-48c1-a73b-7f3233790a1b"
      },
      "execution_count": null,
      "outputs": [
        {
          "output_type": "stream",
          "name": "stdout",
          "text": [
            "Nama: Azmi Aqila Chafid\n",
            "kelas:XI3\n",
            "No.absen:3\n"
          ]
        }
      ]
    },
    {
      "cell_type": "code",
      "source": [
        "print('Ahsanul A\\'la')"
      ],
      "metadata": {
        "colab": {
          "base_uri": "https://localhost:8080/"
        },
        "id": "jkbgBWF1b2jJ",
        "outputId": "1b1ffc21-caa1-478f-f9fa-0ed0db03284b"
      },
      "execution_count": null,
      "outputs": [
        {
          "output_type": "stream",
          "name": "stdout",
          "text": [
            "Ahsanul A'la\n"
          ]
        }
      ]
    },
    {
      "cell_type": "code",
      "source": [
        "print(\"Saya berkata,\\\"kita adalah jawa!\\\".\")"
      ],
      "metadata": {
        "colab": {
          "base_uri": "https://localhost:8080/"
        },
        "id": "Uz1A9H5AcGRe",
        "outputId": "6bc0e44f-8b42-4d93-e0c7-ca943c24d050"
      },
      "execution_count": null,
      "outputs": [
        {
          "output_type": "stream",
          "name": "stdout",
          "text": [
            "Saya berkata,\"kita adalah jawa!\".\n"
          ]
        }
      ]
    },
    {
      "cell_type": "code",
      "source": [
        "print(\"Lokasi file penyimpanan tugas KKA ada di local disk D:\\\\MAN Demak\\\\KKA\\\\Tugas\")"
      ],
      "metadata": {
        "colab": {
          "base_uri": "https://localhost:8080/"
        },
        "id": "lfXmnhoiceCL",
        "outputId": "ca76495a-f329-4bca-b408-cca46e44d17f"
      },
      "execution_count": null,
      "outputs": [
        {
          "output_type": "stream",
          "name": "stdout",
          "text": [
            "Lokasi file penyimpanan tugas KKA ada di local disk D:\\MAN Demak\\KKA\\Tugas\n"
          ]
        }
      ]
    },
    {
      "cell_type": "markdown",
      "source": [
        "#Paramenter fungsi print"
      ],
      "metadata": {
        "id": "25Ek_iRYXigh"
      }
    },
    {
      "cell_type": "code",
      "source": [
        "nama_siswa_1 = \"Yafi\"\n",
        "nama_siswa_2 = \"ahmad\""
      ],
      "metadata": {
        "id": "e3Z-xfQVXuKQ"
      },
      "execution_count": null,
      "outputs": []
    },
    {
      "cell_type": "code",
      "source": [
        "print(nama_siswa_1, nama_siswa_2, sep=\"/\")"
      ],
      "metadata": {
        "colab": {
          "base_uri": "https://localhost:8080/"
        },
        "id": "3hks8eQYYDRq",
        "outputId": "66b195ac-1e2c-4d46-c9db-6e5d1e6155df"
      },
      "execution_count": null,
      "outputs": [
        {
          "output_type": "stream",
          "name": "stdout",
          "text": [
            "Yafi/ahmad\n"
          ]
        }
      ]
    },
    {
      "cell_type": "code",
      "source": [
        "print(nama_siswa_1, end=\"&\")\n",
        "print(nama_siswa_2)"
      ],
      "metadata": {
        "colab": {
          "base_uri": "https://localhost:8080/"
        },
        "id": "c0Z5uq5MYz6u",
        "outputId": "6e7b70b5-9189-4ced-e786-7a7adb1d739c"
      },
      "execution_count": null,
      "outputs": [
        {
          "output_type": "stream",
          "name": "stdout",
          "text": [
            "Yafi&ahmad\n"
          ]
        }
      ]
    },
    {
      "cell_type": "code",
      "source": [
        "nama_siswa_3 = \"Dzakka\"\n",
        "nama_siswa_4 = \"Haikal\"\n",
        "nama_siswa_5 = \"Hilma\""
      ],
      "metadata": {
        "id": "Twxcmq3SZTva"
      },
      "execution_count": null,
      "outputs": []
    },
    {
      "cell_type": "code",
      "source": [
        "print(nama_siswa_3, nama_siswa_4, nama_siswa_5, nama_siswa_3, sep=\"~\")"
      ],
      "metadata": {
        "colab": {
          "base_uri": "https://localhost:8080/"
        },
        "id": "hsRhHx2EZ7Qx",
        "outputId": "922dffc5-78d7-40be-dbb4-5e23851661a3"
      },
      "execution_count": null,
      "outputs": [
        {
          "output_type": "stream",
          "name": "stdout",
          "text": [
            "Dzakka~Haikal~Hilma~Dzakka\n"
          ]
        }
      ]
    },
    {
      "cell_type": "code",
      "source": [
        "print(nama_siswa_5, end=\"*\")\n",
        "print(nama_siswa_3, end=\"*\")\n",
        "print(nama_siswa_4, end=\"*\")\n",
        "print(nama_siswa_5)"
      ],
      "metadata": {
        "colab": {
          "base_uri": "https://localhost:8080/"
        },
        "id": "bzvCPxKvbCCA",
        "outputId": "b2a8008c-2018-407c-ba70-9020a5ff228f"
      },
      "execution_count": null,
      "outputs": [
        {
          "output_type": "stream",
          "name": "stdout",
          "text": [
            "Hilma*Dzakka*Haikal*Hilma\n"
          ]
        }
      ]
    }
  ]
}